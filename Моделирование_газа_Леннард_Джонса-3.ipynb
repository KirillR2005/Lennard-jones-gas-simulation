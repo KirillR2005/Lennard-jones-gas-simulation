{
  "nbformat": 4,
  "nbformat_minor": 0,
  "metadata": {
    "colab": {
      "provenance": []
    },
    "kernelspec": {
      "name": "python3",
      "display_name": "Python 3"
    },
    "language_info": {
      "name": "python"
    }
  },
  "cells": [
    {
      "cell_type": "code",
      "execution_count": null,
      "metadata": {
        "id": "thmQ1I3nST9y"
      },
      "outputs": [],
      "source": [
        "import numpy as np\n",
        "import pandas as pd\n",
        "from matplotlib import pyplot as plt\n",
        "from mpl_toolkits.mplot3d import Axes3D\n",
        "import random"
      ]
    },
    {
      "cell_type": "code",
      "source": [
        "def U_LJ(dist_table, epsilon, sigma):\n",
        "  d = dist_table\n",
        "  d = np.where(d == 0, np.inf, d)\n",
        "  U = 4*epsilon*((sigma/d)**12 - (sigma/d)**6)\n",
        "  return U\n",
        "\n",
        "def F_LJ(distances, epsilon, sigma): #dist_table needed\n",
        "  d = np.linalg.norm(distances, axis = 2)\n",
        "  d = np.where(d == 0, 1, d)\n",
        "  F = 24*epsilon/(d**2)*(2*(sigma/d)**12 - (sigma/d)**6)\n",
        "  F = np.transpose(np.array([F]*np.size(distances, axis = 2)), axes = (1, 2, 0))\n",
        "  F = np.multiply(F, -distances)\n",
        "  return F\n",
        "\n",
        "d = np.linspace(0.95, 2, 1000)\n",
        "sigma = 1\n",
        "epsilon = 1\n",
        "#plt.plot(d, 4*epsilon*((sigma/d)**12 - (sigma/d)**6))\n"
      ],
      "metadata": {
        "id": "LQV4o3o6ZBKG",
        "collapsed": true
      },
      "execution_count": null,
      "outputs": []
    },
    {
      "cell_type": "code",
      "source": [
        "class particle():\n",
        "    def __init__(self, pos, v):\n",
        "        self.pos = pos\n",
        "        self.x = pos[0]\n",
        "        self.y = pos[1]\n",
        "        self.z = pos[2]\n",
        "\n",
        "        self.v = v\n",
        "        self.vx = v[0]\n",
        "        self.vy = v[1]\n",
        "        self.vz = v[2]\n",
        "\n",
        "class system():\n",
        "    def __init__(self, N, positions = None, velocities = None, box_size = np.array([1, 1, 1]), eps = 0.05, sigma = 0.1, r_c = 0.04):\n",
        "\n",
        "        self.particles = np.empty(N, dtype=particle)\n",
        "\n",
        "        self.N = N\n",
        "        self.size = box_size\n",
        "        self.eps = eps\n",
        "        self.sigma = sigma\n",
        "        self.r_c = r_c\n",
        "        self.time = 0\n",
        "\n",
        "        self.positions = (positions if positions is not None else np.random.rand(N, 3))\n",
        "        self.positions = self.positions*self.size\n",
        "        self.velocities = (velocities if velocities is not None else np.random.rand(N, 3))\n",
        "        self.particles = [particle(self.positions[i], self.velocities[i]) for i in range(N)]\n",
        "\n",
        "        self.trajectories = self.positions.reshape(1, N, 3)\n",
        "        self.v_table = self.velocities.reshape(1, N, 3)\n",
        "        self.timeline = np.array([0])\n",
        "        self.KE = np.sum([np.linalg.norm(self.velocities[i])**2 for i in range(N)])/2\n",
        "        self.PE = np.sum(U_LJ(self.positions, eps, sigma))\n",
        "        self.rms_v = np.sqrt(2*self.KE/N)\n",
        "\n",
        "\n",
        "    def get_positions(self):\n",
        "        return np.array([self.particles[i].pos for i in range(self.N)])\n",
        "\n",
        "    def get_velocities(self):\n",
        "        return np.array([self.particles[i].v for i in range(self.N)])\n",
        "\n",
        "    def distances(self):\n",
        "        L = self.size\n",
        "        r = np.array([self.positions]*np.size(self.positions, axis = 0))\n",
        "        r = r - np.transpose(r, axes = (1, 0, 2))\n",
        "        r = np.multiply(np.sign(r), (self.size/2) - np.abs(np.abs(r) - self.size/2))\n",
        "        return r\n",
        "\n",
        "    def dist_table(self):\n",
        "        return np.linalg.norm(self.distances(), axis = 2)\n",
        "\n",
        "    def forces(self, eps = None, sigma = None):\n",
        "        eps = self.eps if eps is None else eps\n",
        "        sigma = self.sigma if sigma is None else sigma\n",
        "\n",
        "        forces = F_LJ(self.distances(), eps, sigma)\n",
        "        forces = np.sum(forces, axis = 1)\n",
        "        return forces\n",
        "\n",
        "    def min_dist(self):\n",
        "        return np.min(self.dist_table() + np.linalg.norm(self.size)*np.eye(self.N))\n",
        "\n",
        "    def update(self, dt):\n",
        "        #used for the first update only\n",
        "        self.positions = self.positions + self.velocities*dt\n",
        "        self.positions = self.positions % self.size #PBC\n",
        "        self.trajectories = np.append(self.trajectories, self.positions.reshape(1, self.N, 3), axis = 0)\n",
        "        self.timeline = np.append(self.timeline, self.time + dt)\n",
        "        self.time += dt\n",
        "\n",
        "    def verlet_update(self, dt, adaptive_timestep):\n",
        "        #used for all other updates\n",
        "        forces = self.forces()\n",
        "        if adaptive_timestep:\n",
        "            dt1 = self.timeline[-1] - self.timeline[-2]\n",
        "            self.trajectories = np.append(self.trajectories, self.positions.reshape(1, self.N, 3), axis = 0)\n",
        "            self.positions = (1 + dt/dt1)*self.positions + 0.5*forces*dt*(dt + dt1) - (dt/dt1)*self.trajectories[-2]\n",
        "            #self.v_table = np.append(self.v_table, ((self.positions - self.trajectories[-2])/(dt + dt1)).reshape(1, self.N, 3), axis = 0)\n",
        "            self.v_table = np.append(self.v_table, ((self.positions - self.trajectories[-1])/dt).reshape(1, self.N, 3), axis = 0)\n",
        "\n",
        "            self.positions = self.positions % self.size #PBC\n",
        "            self.time += dt\n",
        "            self.timeline = np.append(self.timeline, self.time)\n",
        "\n",
        "        else:\n",
        "            self.trajectories = np.append(self.trajectories, self.positions.reshape(1, self.N, 3), axis = 0)\n",
        "            self.positions = 2*self.positions - self.trajectories[-2] + forces*(dt**2)\n",
        "            self.v_table = np.append(self.v_table, ((self.positions - self.trajectories[-1])/(2*dt)).reshape(1, self.N, 3), axis = 0)\n",
        "            self.positions = self.positions % self.size #PBC\n",
        "            self.time += dt\n",
        "            self.timeline = np.append(self.timeline, self.time)\n",
        "        self.time += dt\n",
        "\n",
        "    def vel_verlet_update(self, dt):\n",
        "        forces = self.forces()\n",
        "        new_positions = self.positions + self.velocities*dt + 0.5*forces*(dt**2)\n",
        "\n",
        "        L = self.size\n",
        "        new_distances = np.array([new_positions]*np.size(new_positions, axis = 0))\n",
        "        new_distances = new_distances - np.transpose(new_distances, axes = (1, 0, 2))\n",
        "        new_distances = np.multiply(np.sign(new_distances), (self.size/2) - np.abs(np.abs(new_distances) - self.size/2))\n",
        "\n",
        "        new_forces = np.sum(F_LJ(new_distances, self.eps, self.sigma), axis = 1)\n",
        "\n",
        "        v = self.velocities + (forces + new_forces)*dt/2\n",
        "\n",
        "        self.positions = new_positions\n",
        "        self.velocities = v\n",
        "\n",
        "        self.v_table = np.append(self.v_table, v.reshape(1, self.N, 3), axis = 0)\n",
        "        self.trajectories = np.append(self.trajectories, new_positions.reshape(1, self.N, 3), axis = 0)\n",
        "        self.time += dt\n",
        "\n",
        "    def run(self, num_steps, adaptive_timestep = True):\n",
        "        run_time = self.time\n",
        "        dt = sigma/100\n",
        "        self.update(dt)\n",
        "        self.trajectories = np.delete(self.trajectories, -1, axis = 0)\n",
        "        for i in range(num_steps-1):\n",
        "            if adaptive_timestep:\n",
        "                dt = self.min_dist()/np.max(np.linalg.norm(self.v_table[-1], axis = 1))\n",
        "            self.verlet_update(dt=dt, adaptive_timestep=adaptive_timestep)\n",
        "            run_time += dt\n",
        "        print(\"run complete, run time:\", run_time)\n",
        "        self.time = run_time\n",
        "        return self.trajectories\n"
      ],
      "metadata": {
        "id": "z6hAh2-PSrEA"
      },
      "execution_count": null,
      "outputs": []
    },
    {
      "cell_type": "markdown",
      "source": [
        "### Running a system"
      ],
      "metadata": {
        "id": "sQZ1GM10SDjn"
      }
    },
    {
      "cell_type": "code",
      "source": [
        "positions = np.array([[i, j, k] for i in range(6) for j in range(6) for k in range(6)])*0.15 + 0.1\n",
        "positions.shape[0]"
      ],
      "metadata": {
        "colab": {
          "base_uri": "https://localhost:8080/"
        },
        "id": "yWL6FSeYSB6Z",
        "outputId": "aa511cf3-05f3-4698-c18f-87a055b63722"
      },
      "execution_count": null,
      "outputs": [
        {
          "output_type": "execute_result",
          "data": {
            "text/plain": [
              "216"
            ]
          },
          "metadata": {},
          "execution_count": 33
        }
      ]
    },
    {
      "cell_type": "code",
      "source": [
        "s = system(positions.shape[0], positions)\n",
        "s.min_dist(), s.rms_v, s.time, s.v_table.shape"
      ],
      "metadata": {
        "colab": {
          "base_uri": "https://localhost:8080/"
        },
        "id": "IuORO1VaSRr0",
        "outputId": "b7cdeab4-b8a6-464c-e9f1-d2ab2dab143f"
      },
      "execution_count": null,
      "outputs": [
        {
          "output_type": "execute_result",
          "data": {
            "text/plain": [
              "(0.1499999999999999, 0.9873784637328492, 0, (1, 216, 3))"
            ]
          },
          "metadata": {},
          "execution_count": 39
        }
      ]
    },
    {
      "cell_type": "code",
      "source": [
        "a = np.array([])\n",
        "for i in range(1000):\n",
        "    s.vel_verlet_update(s.sigma/100)\n",
        "    a = np.append(a, np.max(np.abs(s.forces())))\n",
        "plt.hist(np.linalg.norm(s.v_table[-1], axis = 1).flatten(), bins = 30)\n"
      ],
      "metadata": {
        "colab": {
          "base_uri": "https://localhost:8080/",
          "height": 652
        },
        "id": "ufOKnD00es5h",
        "outputId": "2b17f030-27e1-4986-ebeb-0afa6fa85469",
        "collapsed": true
      },
      "execution_count": null,
      "outputs": [
        {
          "output_type": "execute_result",
          "data": {
            "text/plain": [
              "(array([212.,   0.,   0.,   0.,   0.,   2.,   0.,   0.,   0.,   0.,   0.,\n",
              "          0.,   0.,   0.,   0.,   0.,   0.,   0.,   0.,   0.,   0.,   0.,\n",
              "          0.,   0.,   0.,   0.,   0.,   0.,   0.,   2.]),\n",
              " array([1.06979131e+00, 1.00039169e+09, 2.00078338e+09, 3.00117507e+09,\n",
              "        4.00156676e+09, 5.00195845e+09, 6.00235014e+09, 7.00274183e+09,\n",
              "        8.00313352e+09, 9.00352521e+09, 1.00039169e+10, 1.10043086e+10,\n",
              "        1.20047003e+10, 1.30050920e+10, 1.40054837e+10, 1.50058753e+10,\n",
              "        1.60062670e+10, 1.70066587e+10, 1.80070504e+10, 1.90074421e+10,\n",
              "        2.00078338e+10, 2.10082255e+10, 2.20086172e+10, 2.30090089e+10,\n",
              "        2.40094006e+10, 2.50097922e+10, 2.60101839e+10, 2.70105756e+10,\n",
              "        2.80109673e+10, 2.90113590e+10, 3.00117507e+10]),\n",
              " <BarContainer object of 30 artists>)"
            ]
          },
          "metadata": {},
          "execution_count": 40
        },
        {
          "output_type": "display_data",
          "data": {
            "text/plain": [
              "<Figure size 640x480 with 1 Axes>"
            ],
            "image/png": "[encoded data removed]"
          },
          "metadata": {}
        }
      ]
    },
    {
      "cell_type": "code",
      "source": [
        "s.time"
      ],
      "metadata": {
        "colab": {
          "base_uri": "https://localhost:8080/"
        },
        "id": "f_t1tlMJqtZf",
        "outputId": "a04cf41f-5fcc-456f-e6a0-21a96c09c457"
      },
      "execution_count": null,
      "outputs": [
        {
          "output_type": "execute_result",
          "data": {
            "text/plain": [
              "1.0000000000000007"
            ]
          },
          "metadata": {},
          "execution_count": 41
        }
      ]
    },
    {
      "cell_type": "code",
      "source": [
        "a"
      ],
      "metadata": {
        "colab": {
          "base_uri": "https://localhost:8080/"
        },
        "collapsed": true,
        "id": "JI71mznnqTY6",
        "outputId": "236350da-18b4-4a44-87ea-0b73fc507845"
      },
      "execution_count": null,
      "outputs": [
        {
          "output_type": "execute_result",
          "data": {
            "text/plain": [
              "array([8.96428572e-01, 9.15475785e-01, 9.35113947e-01, 9.55336459e-01,\n",
              "       9.76133061e-01, 9.97489257e-01, 1.01938567e+00, 1.04179729e+00,\n",
              "       1.06469267e+00, 1.08803296e+00, 1.11177083e+00, 1.13584930e+00,\n",
              "       1.16020031e+00, 1.18474321e+00, 1.20938303e+00, 1.23400842e+00,\n",
              "       1.25848948e+00, 1.28267522e+00, 1.30639065e+00, 1.32943361e+00,\n",
              "       1.35157107e+00, 1.37253506e+00, 1.39201804e+00, 1.40966763e+00,\n",
              "       1.42508080e+00, 1.43779726e+00, 1.44729206e+00, 1.45296733e+00,\n",
              "       1.45414303e+00, 1.46869163e+00, 1.48999002e+00, 1.51109654e+00,\n",
              "       1.53195822e+00, 1.55251728e+00, 1.57271068e+00, 1.59246981e+00,\n",
              "       1.61172001e+00, 1.63038013e+00, 1.64836206e+00, 1.66557021e+00,\n",
              "       1.68190094e+00, 1.69724203e+00, 1.71147203e+00, 1.80622986e+00,\n",
              "       2.33861015e+00, 2.95974770e+00, 3.68125262e+00, 4.51557087e+00,\n",
              "       5.47577624e+00, 6.57523219e+00, 7.82708530e+00, 9.24354870e+00,\n",
              "       1.08349352e+01, 1.26084083e+01, 1.45664390e+01, 1.67049924e+01,\n",
              "       1.90115234e+01, 2.14629372e+01, 2.40237567e+01, 2.66448454e+01,\n",
              "       2.92630933e+01, 3.18024938e+01, 3.41769780e+01, 3.62951410e+01,\n",
              "       3.80666943e+01, 3.94100680e+01, 4.02601998e+01, 4.05753184e+01,\n",
              "       4.03415414e+01, 3.95744293e+01, 3.83171956e+01, 3.72309964e+01,\n",
              "       3.65592666e+01, 3.54512302e+01, 3.40065672e+01, 3.37366319e+01,\n",
              "       3.30879757e+01, 3.20884503e+01, 3.07794784e+01, 2.92124424e+01,\n",
              "       2.74445425e+01, 2.80564164e+01, 3.01382400e+01, 3.20411725e+01,\n",
              "       3.36882410e+01, 3.50058444e+01, 3.59300856e+01, 3.64129057e+01,\n",
              "       3.64270687e+01, 3.59691403e+01, 3.50599173e+01, 3.37422270e+01,\n",
              "       3.20764983e+01, 3.01348792e+01, 2.90268953e+01, 3.51349551e+01,\n",
              "       4.18277209e+01, 4.88372632e+01, 5.57507735e+01, 6.20268374e+01,\n",
              "       6.70567726e+01, 7.02701875e+01, 7.12609238e+01, 6.98901491e+01,\n",
              "       6.63238947e+01, 6.09882028e+01, 5.44618812e+01, 4.73507577e+01,\n",
              "       4.51043039e+01, 4.89393557e+01, 5.20684264e+01, 5.42577264e+01,\n",
              "       5.53308003e+01, 5.51978770e+01, 5.38715443e+01, 5.14641328e+01,\n",
              "       4.81676841e+01, 4.85584342e+01, 4.96387117e+01, 4.96402823e+01,\n",
              "       4.85650727e+01, 4.65040998e+01, 4.36215158e+01, 4.01278720e+01,\n",
              "       3.62497428e+01, 3.22025664e+01, 3.12092096e+01, 3.31601674e+01,\n",
              "       3.59659340e+01, 3.83920887e+01, 4.02380335e+01, 4.13787604e+01,\n",
              "       4.17387573e+01, 4.13049599e+01, 4.01292636e+01, 3.96740876e+01,\n",
              "       3.86399777e+01, 3.70887523e+01, 3.61131691e+01, 3.55899820e+01,\n",
              "       3.48443179e+01, 3.39049910e+01, 3.27973731e+01, 3.15432622e+01,\n",
              "       3.01616454e+01, 2.86699145e+01, 2.70851124e+01, 2.54248992e+01,\n",
              "       2.37080630e+01, 2.35883417e+01, 2.41149397e+01, 2.44597170e+01,\n",
              "       2.46169062e+01, 2.49788093e+01, 2.58484390e+01, 2.64622109e+01,\n",
              "       2.67943612e+01, 2.68303823e+01, 2.81276541e+01, 2.93162553e+01,\n",
              "       3.01795893e+01, 3.06758845e+01, 3.07791315e+01, 3.04816094e+01,\n",
              "       2.97945605e+01, 3.09110332e+01, 3.23564322e+01, 3.35326069e+01,\n",
              "       3.44004100e+01, 3.49327413e+01, 3.51168205e+01, 3.75770339e+01,\n",
              "       4.19850082e+01, 4.58630388e+01, 4.91941671e+01, 5.18731026e+01,\n",
              "       5.31230758e+01, 5.27875125e+01, 5.08937017e+01, 4.76423655e+01,\n",
              "       4.33576480e+01, 3.84172747e+01, 3.31861660e+01, 2.94997378e+01,\n",
              "       3.00675110e+01, 3.06861889e+01, 3.08863614e+01, 3.06592531e+01,\n",
              "       3.00182344e+01, 2.89972022e+01, 2.76468732e+01, 2.63511626e+01,\n",
              "       2.66277150e+01, 2.66388257e+01, 2.77186695e+01, 2.93448435e+01,\n",
              "       3.20148114e+01, 3.45280642e+01, 3.66481658e+01, 3.82608600e+01,\n",
              "       3.92762242e+01, 3.96399855e+01, 3.93405925e+01, 3.84104605e+01,\n",
              "       3.69211406e+01, 3.49735733e+01, 3.56937215e+01, 3.61760549e+01,\n",
              "       3.61532761e+01, 3.56278095e+01, 3.46282467e+01, 3.32061707e+01,\n",
              "       3.14307175e+01, 3.08001592e+01, 3.37111898e+01, 3.63716170e+01,\n",
              "       3.86462232e+01, 4.04055565e+01, 4.15401258e+01, 4.19740426e+01,\n",
              "       4.16753834e+01, 4.06609512e+01, 3.89942774e+01, 3.67772796e+01,\n",
              "       3.41374316e+01, 3.12131303e+01, 2.83115828e+01, 3.14499581e+01,\n",
              "       3.44447830e+01, 3.71663977e+01, 3.94792236e+01, 4.12549446e+01,\n",
              "       4.23873511e+01, 4.28061812e+01, 4.24870171e+01, 4.14549219e+01,\n",
              "       3.97809259e+01, 3.75722206e+01, 3.49583541e+01, 3.20763661e+01,\n",
              "       3.32714856e+01, 3.54413892e+01, 3.74093128e+01, 3.90990631e+01,\n",
              "       4.04386454e+01, 4.13665383e+01, 4.18376184e+01, 4.25388359e+01,\n",
              "       4.57596600e+01, 4.84297117e+01, 5.03796598e+01, 5.14771294e+01,\n",
              "       5.16452788e+01, 5.08741336e+01, 4.92218507e+01, 4.81868506e+01,\n",
              "       4.70152587e+01, 4.69422196e+01, 4.61451204e+01, 4.42904068e+01,\n",
              "       4.49609956e+01, 4.65523894e+01, 4.72974654e+01, 4.71384551e+01,\n",
              "       4.60871083e+01, 4.42225954e+01, 4.16786829e+01, 3.86236738e+01,\n",
              "       3.52380574e+01, 3.65653562e+01, 3.87945597e+01, 5.41998099e+01,\n",
              "       7.61607558e+01, 1.06827068e+02, 1.48801274e+02, 2.04546928e+02,\n",
              "       2.75079246e+02, 3.54877223e+02, 4.24086650e+02, 4.46284558e+02,\n",
              "       3.92477227e+02, 2.80982821e+02, 1.66218927e+02, 9.86047134e+01,\n",
              "       1.07687736e+02, 1.15243868e+02, 1.21855070e+02, 1.33700580e+02,\n",
              "       1.40193490e+02, 1.38549525e+02, 1.27460580e+02, 1.08236020e+02,\n",
              "       8.45873309e+01, 6.09648878e+01, 4.67093976e+01, 5.71222130e+01,\n",
              "       7.05595328e+01, 8.82706422e+01, 1.12202825e+02, 1.45500404e+02,\n",
              "       1.93438090e+02, 2.65209092e+02, 3.77307898e+02, 5.58986833e+02,\n",
              "       8.53084092e+02, 1.25191280e+03, 1.48831618e+03, 1.05039242e+03,\n",
              "       2.76019271e+02, 1.59353215e+02, 3.14603781e+02, 1.49937290e+03,\n",
              "       5.38919929e+03, 2.36549162e+03, 1.77801495e+03, 1.01267575e+03,\n",
              "       1.10679336e+03, 1.97264030e+03, 3.96990423e+03, 2.66654535e+03,\n",
              "       1.75413735e+03, 2.06293493e+03, 1.86670260e+03, 5.46164601e+03,\n",
              "       7.42617144e+02, 2.54728968e+02, 2.19076970e+02, 3.56277187e+02,\n",
              "       8.18635058e+02, 2.52219140e+03, 4.06897800e+03, 1.61257574e+03,\n",
              "       1.70753022e+03, 7.99681532e+02, 1.39516162e+03, 3.94252890e+03,\n",
              "       2.99879732e+03, 1.19397087e+04, 2.99904132e+05, 5.68457449e+02,\n",
              "       3.22297080e+04, 9.58553532e+02, 2.50345244e+03, 1.63828489e+04,\n",
              "       5.74402009e+05, 5.88861370e+05, 1.00818952e+07, 4.12375180e+06,\n",
              "       4.81127064e+09, 2.14410220e+04, 4.04317504e+03, 9.01608248e+03,\n",
              "       1.11472620e+03, 1.94907035e+03, 4.59497824e+08, 7.21720126e+04,\n",
              "       1.97132335e+04, 2.22279011e+05, 6.62528735e+09, 3.98402797e+08,\n",
              "       2.36122243e+07, 9.29438458e+03, 9.37105615e+03, 1.23507528e+05,\n",
              "       3.39584799e+05, 9.89220692e+06, 6.94142650e+04, 4.09669814e+03,\n",
              "       7.93389696e+09, 5.07823581e+05, 2.04679090e+04, 2.83817270e+04,\n",
              "       3.21444271e+04, 2.06988292e+07, 1.48684709e+07, 3.25783615e+04,\n",
              "       3.25587210e+05, 2.70874775e+07, 2.74809841e+03, 8.32649743e+07,\n",
              "       1.01968897e+04, 1.06448431e+05, 9.19058373e+04, 4.45062191e+04,\n",
              "       1.97686536e+04, 1.46354570e+06, 2.64348550e+05, 5.05654529e+06,\n",
              "       2.46914205e+09, 1.07234480e+05, 5.17454784e+02, 6.20929284e+02,\n",
              "       6.02043985e+02, 1.27243930e+03, 1.49182303e+06, 3.14353752e+02,\n",
              "       1.95340288e+02, 3.17175411e+02, 1.28025125e+03, 3.49471950e+03,\n",
              "       1.12177803e+03, 6.93353089e+02, 2.92926387e+02, 2.33762992e+03,\n",
              "       8.38440285e+05, 1.15912324e+08, 6.03002729e+03, 1.42175969e+05,\n",
              "       3.45765463e+02, 1.34839939e+05, 4.02509185e+04, 4.33992032e+06,\n",
              "       2.04412576e+03, 6.64496864e+03, 7.04377568e+04, 2.97658964e+04,\n",
              "       5.76704278e+05, 2.64909575e+07, 2.37101399e+06, 3.95315859e+05,\n",
              "       4.81896406e+12, 1.71125365e+09, 6.68213805e+04, 1.48420256e+03,\n",
              "       9.43832140e+09, 4.73998724e+06, 2.39913970e+03, 2.49603755e+05,\n",
              "       1.22355678e+05, 7.58571367e+07, 2.02720753e+07, 5.43522786e+04,\n",
              "       1.49500124e+05, 1.54734032e+09, 3.85999454e+05, 1.41573029e+06,\n",
              "       1.21838629e+04, 3.46407051e+03, 1.98396522e+05, 2.73219419e+03,\n",
              "       1.06404827e+05, 1.03206794e+04, 9.65175388e+04, 8.24659679e+04,\n",
              "       2.67802272e+07, 2.42164882e+03, 3.34229034e+07, 1.10398693e+03,\n",
              "       3.84165491e+03, 7.37501951e+05, 1.03711928e+04, 1.52555205e+05,\n",
              "       2.39502299e+13, 9.60105591e+03, 2.46230216e+10, 7.11049148e+02,\n",
              "       9.93567348e+02, 1.30596889e+03, 2.74068745e+08, 1.46875978e+03,\n",
              "       2.01283216e+03, 6.33840260e+03, 1.08625877e+03, 6.47185934e+02,\n",
              "       1.61502527e+04, 6.61224594e+09, 7.86134102e+01, 7.18109220e+01,\n",
              "       6.28324134e+01, 6.23461621e+03, 1.50015001e+09, 1.97338599e+03,\n",
              "       1.47549032e+04, 2.83899990e+09, 2.37307002e+03, 5.49245806e+05,\n",
              "       1.78282381e+03, 2.26729740e+03, 1.74586417e+04, 2.09438641e+05,\n",
              "       3.40612141e+03, 1.69877830e+05, 7.20992868e+02, 1.25965161e+03,\n",
              "       3.91121178e+03, 2.67907747e+05, 7.45477075e+02, 4.36397719e+04,\n",
              "       2.05180026e+01, 1.74601937e+02, 2.34137062e+03, 1.08579263e+05,\n",
              "       3.62902546e+02, 3.82593434e+01, 2.47476025e+07, 2.26905145e+03,\n",
              "       1.67958585e+07, 2.38307814e+02, 6.05581019e+01, 1.04869102e+02,\n",
              "       1.73493561e+02, 2.68887961e+02, 3.77887280e+02, 4.63222917e+02,\n",
              "       4.81763689e+02, 4.26175622e+02, 3.31521859e+02, 2.37078956e+02,\n",
              "       1.61595632e+02, 1.07240214e+02, 6.99160871e+01, 4.48384345e+01,\n",
              "       2.81875449e+01, 2.06844903e+01, 4.02987177e+01, 7.73085840e+01,\n",
              "       1.49420277e+02, 3.00898971e+02, 6.74417848e+02, 1.98768386e+03,\n",
              "       1.45610181e+04, 7.18476377e+08, 2.21165746e+01, 6.55231799e+01,\n",
              "       2.13685265e+02, 6.79351553e+02, 2.35469342e+03, 1.15033354e+04,\n",
              "       1.38309706e+04, 3.13443588e+02, 1.81353095e+02, 2.08007193e+03,\n",
              "       2.68767124e+05, 9.24421861e+01, 1.87899646e+01, 5.23896276e+00,\n",
              "       4.69790966e+01, 1.15290015e+03, 2.26333406e+03, 1.44213210e+04,\n",
              "       2.56367334e+02, 3.13207321e+00, 1.85617132e+00, 2.77086824e+00,\n",
              "       3.25565839e+01, 3.20989391e+02, 3.07405360e+03, 6.94789562e+03,\n",
              "       5.05744630e+02, 2.27283908e+01, 1.08259015e+01, 1.45586875e+01,\n",
              "       1.92040954e+01, 2.48779731e+01, 7.25012280e+01, 2.53873900e+02,\n",
              "       8.36408808e+02, 3.02613919e+03, 2.30037968e+04, 1.35900926e+03,\n",
              "       2.06725546e+03, 1.87775912e+03, 5.26522372e+03, 4.22085112e+03,\n",
              "       3.45079424e+04, 3.02332393e+05, 6.60618304e+01, 1.33323955e+02,\n",
              "       2.08819150e+02, 1.69101069e+03, 2.29095627e+06, 2.22572137e+02,\n",
              "       9.22670071e+01, 1.26939591e+02, 4.27154128e+01, 3.08320876e+01,\n",
              "       1.37819844e+04, 2.61500579e+07, 1.25844014e+01, 4.76239382e+01,\n",
              "       1.67121626e+02, 5.91434265e+02, 2.27970827e+03, 1.02089736e+04,\n",
              "       4.11882328e+03, 1.69419743e+01, 6.55198252e+01, 2.06618081e+02,\n",
              "       5.42892828e+02, 1.13884282e+03, 2.49400196e+03, 2.80614547e+03,\n",
              "       5.55495388e+02, 4.75459615e+02, 3.62420253e+02, 1.48034563e+02,\n",
              "       4.63649196e+01, 1.40263718e+01, 2.37729874e+00, 4.16867636e+00,\n",
              "       6.68828306e+01, 2.50689728e+03, 1.98322603e+05, 1.76782788e+02,\n",
              "       6.28802520e+02, 2.28999735e+03, 1.66602457e+04, 5.82093656e+09,\n",
              "       1.69163171e+03, 3.72366282e+03, 7.69694620e+04, 2.17355183e+02,\n",
              "       1.91991156e+02, 1.52567958e+02, 1.10877264e+02, 1.48872791e+02,\n",
              "       3.18911719e+02, 1.51152184e+04, 3.91042419e+02, 1.32606135e+02,\n",
              "       5.72972401e+01, 4.38128515e+01, 5.22977031e+01, 6.09200415e+01,\n",
              "       6.94090274e+01, 7.75243282e+01, 8.50801604e+01, 9.19608026e+01,\n",
              "       9.81276118e+01, 1.03619726e+02, 1.08551983e+02, 1.13114341e+02,\n",
              "       1.73945207e+02, 3.94768997e+02, 1.01399967e+03, 3.83702268e+03,\n",
              "       8.96289757e+04, 3.15590087e+02, 4.29161537e+02, 6.47723470e+02,\n",
              "       1.18025663e+03, 3.25280832e+03, 3.79792954e+04, 1.75337831e+07,\n",
              "       7.12368796e-01, 6.43818258e-01, 5.12486946e-01, 5.25119356e-01,\n",
              "       6.57622869e-01, 7.60256817e-01, 9.05687384e+01, 1.17365207e+02,\n",
              "       8.80724962e-01, 7.40449410e-01, 7.50305818e-01, 1.10075742e+00,\n",
              "       2.47971828e+03, 1.85436953e+00, 1.21720983e+00, 1.07444156e+00,\n",
              "       8.60891726e-01, 7.62285359e-01, 8.32293141e-01, 8.59930270e-01,\n",
              "       8.36896748e-01, 7.69786298e-01, 7.45961302e-01, 7.22570005e-01,\n",
              "       6.91347296e-01, 6.57231479e-01, 6.23792487e-01, 6.01189550e-01,\n",
              "       6.60577410e-01, 7.13861748e-01, 7.58311534e-01, 7.91745384e-01,\n",
              "       8.12796686e-01, 8.20992271e-01, 8.16619162e-01, 8.55017576e-01,\n",
              "       8.79395794e-01, 8.33110277e-01, 6.90988328e-01, 6.93043313e-01,\n",
              "       6.90992996e-01, 1.82464684e+00, 4.24497547e+00, 8.19943507e+00,\n",
              "       1.43240088e+01, 2.32891485e+01, 3.55757379e+01, 5.10823019e+01,\n",
              "       6.86359345e+01, 8.56896249e+01, 9.86611454e+01, 1.04159605e+02,\n",
              "       1.00599114e+02, 8.90566402e+01, 7.26621704e+01, 5.50467638e+01,\n",
              "       3.89976385e+01, 2.59590012e+01, 1.62360813e+01, 9.46049961e+00,\n",
              "       5.00158577e+00, 2.21954002e+00, 5.79531393e-01, 3.62018496e-01,\n",
              "       8.14275337e-01, 9.98762279e-01, 1.03670103e+00, 1.00402675e+00,\n",
              "       9.47391746e-01, 8.94664001e-01, 8.59740635e-01, 8.38679604e-01,\n",
              "       8.52635190e-01, 5.33470000e-01, 2.10331246e+00, 1.17285435e+01,\n",
              "       4.86566347e+01, 1.85921714e+02, 6.72588028e+02, 1.99098909e+03,\n",
              "       2.59911889e+03, 8.30973010e+02, 1.32758701e+02, 8.88570292e+01,\n",
              "       3.32275000e+02, 1.47513705e+03, 7.85890427e+03, 6.66628515e+03,\n",
              "       3.28228559e+01, 9.93857556e-01, 1.01095930e+00, 1.02882030e+00,\n",
              "       1.02865516e+00, 1.00514671e+00, 9.52193439e-01, 8.62952311e-01,\n",
              "       7.29948158e-01, 5.45268829e-01, 5.58854108e-01, 5.74012308e-01,\n",
              "       6.02689283e-01, 8.63366674e-01, 1.41216739e+00, 2.04336310e+00,\n",
              "       2.75226554e+00, 3.52886266e+00, 4.41015238e+00, 5.52563492e+00,\n",
              "       6.74503205e+00, 8.03997446e+00, 9.37015226e+00, 1.06835008e+01,\n",
              "       1.19179162e+01, 1.30048283e+01, 2.19959374e+01, 3.71729133e+01,\n",
              "       6.10051714e+01, 9.83983577e+01, 1.58052225e+02, 2.57691832e+02,\n",
              "       4.40788777e+02, 8.44672032e+02, 2.32997076e+06, 1.20292686e+04,\n",
              "       2.68390788e+06, 5.18502610e+00, 3.91509768e+00, 2.79779092e+00,\n",
              "       1.84594725e+00, 1.05990027e+00, 4.30751149e-01, 1.25091219e-01,\n",
              "       4.20053789e-01, 6.78940728e-01, 8.52110326e-01, 9.56893460e-01,\n",
              "       1.00860036e+00, 1.02030330e+00, 1.00284760e+00, 9.65004675e-01,\n",
              "       9.13703424e-01, 8.54292317e-01, 7.90802334e-01, 7.26192330e-01,\n",
              "       6.62567130e-01, 6.01364611e-01, 5.43511756e-01, 4.89551894e-01,\n",
              "       4.39746418e-01, 3.94154671e-01, 3.52695668e-01, 3.15195012e-01,\n",
              "       2.81419957e-01, 2.51105158e-01, 2.23971176e-01, 1.99737446e-01,\n",
              "       1.78131070e-01, 1.58892496e-01, 1.44118909e-01, 1.56663482e-01,\n",
              "       1.70310469e-01, 1.85144005e-01, 2.01250412e-01, 2.18729399e-01,\n",
              "       2.37772749e-01, 2.58348188e-01, 2.80532793e-01, 3.04393610e-01,\n",
              "       3.29982731e-01, 3.57331115e-01, 3.86440913e-01, 4.17276026e-01,\n",
              "       4.49750612e-01, 4.83715219e-01, 5.18940246e-01, 5.55096410e-01,\n",
              "       5.91731975e-01, 6.28246537e-01, 6.63861344e-01, 7.04795270e-01,\n",
              "       7.54338655e-01, 8.01608979e-01, 8.44420805e-01, 8.79939875e-01,\n",
              "       9.04550756e-01, 9.13710417e-01, 9.01791138e-01, 8.61918859e-01,\n",
              "       7.85816802e-01, 6.63669602e-01, 4.84027463e-01, 3.39280426e-01,\n",
              "       3.74432235e-01, 5.39932975e-01, 1.09494085e+00, 1.78520482e+00,\n",
              "       2.62680785e+00, 3.63335443e+00, 4.81398717e+00, 6.17094946e+00,\n",
              "       7.69679174e+00, 9.37144957e+00, 1.11595907e+01, 1.30088126e+01,\n",
              "       1.48494175e+01, 1.65965206e+01, 1.81550592e+01, 1.94277996e+01,\n",
              "       2.03257089e+01, 2.07792168e+01, 2.07483356e+01, 2.02289649e+01,\n",
              "       1.92545127e+01, 1.78915825e+01, 1.62309700e+01, 1.43759508e+01,\n",
              "       1.24303016e+01, 1.04881927e+01, 8.62726640e+00, 6.90525234e+00,\n",
              "       5.35969956e+00, 4.00996392e+00, 2.86048829e+00, 1.90454010e+00,\n",
              "       1.12780696e+00, 7.67152794e-01, 7.34682215e-01, 7.04634478e-01,\n",
              "       6.77462271e-01, 7.63893445e-01, 8.79186230e-01, 9.44312268e-01,\n",
              "       9.71000669e-01, 9.68944622e-01, 9.46016020e-01, 9.08502750e-01,\n",
              "       8.61345956e-01, 8.08363355e-01, 7.52450926e-01, 6.95759654e-01,\n",
              "       6.39846786e-01, 5.85802814e-01, 5.34356373e-01, 4.87416507e-01,\n",
              "       4.87871906e-01, 5.03748302e-01, 5.16742749e-01, 5.26620463e-01,\n",
              "       5.33205534e-01, 5.36386685e-01, 5.36121485e-01, 5.32438669e-01,\n",
              "       5.25438196e-01, 5.15288726e-01, 5.02222318e-01, 4.86526407e-01,\n",
              "       4.68533364e-01, 4.48608216e-01, 4.27135294e-01, 4.04504675e-01,\n",
              "       3.81099288e-01, 3.57283418e-01, 3.33393196e-01, 3.09729405e-01,\n",
              "       2.86552721e-01, 2.64081306e-01, 2.42490517e-01, 2.21914362e-01,\n",
              "       2.02448326e-01, 1.84153138e-01, 1.67059123e-01, 1.51170779e-01,\n",
              "       1.36471348e-01, 1.22926575e-01, 1.10487693e-01, 9.91013826e-02,\n",
              "       8.87052582e-02, 8.35315574e-02, 8.94510866e-02, 9.58035809e-02,\n",
              "       1.02615855e-01, 1.09915541e-01, 1.17730947e-01, 1.26090889e-01,\n",
              "       1.35024471e-01, 1.44560831e-01, 1.54728825e-01, 1.65556664e-01,\n",
              "       1.77071493e-01, 1.89298902e-01, 2.02262375e-01, 2.15982677e-01,\n",
              "       2.30477170e-01, 2.45759068e-01, 2.61836638e-01, 2.78712343e-01,\n",
              "       2.96381961e-01, 3.14834737e-01, 3.34049516e-01, 3.53996282e-01,\n",
              "       3.74635068e-01, 3.95914919e-01, 4.17773275e-01, 4.40135501e-01,\n",
              "       4.62914638e-01, 4.86011393e-01, 5.09343570e-01, 5.32759919e-01,\n",
              "       5.56124468e-01, 5.79294813e-01, 6.02121012e-01, 6.24447701e-01,\n",
              "       6.46116372e-01, 6.66967970e-01, 6.86845669e-01, 7.05597736e-01,\n",
              "       7.23080375e-01, 7.39160428e-01, 7.53717817e-01, 7.66647607e-01,\n",
              "       7.77861589e-01, 7.87289310e-01, 7.94878496e-01, 8.00594868e-01,\n",
              "       8.04421369e-01, 8.06356894e-01, 8.06414611e-01, 8.04620023e-01,\n",
              "       8.01008920e-01, 7.95625382e-01, 7.88519974e-01, 7.79748274e-01,\n",
              "       7.69369803e-01, 7.57447416e-01, 7.44047155e-01, 7.29238500e-01,\n",
              "       7.13094955e-01, 6.95694832e-01, 6.77122105e-01, 6.60246575e-01,\n",
              "       6.60191663e-01, 6.58449074e-01, 6.55017301e-01, 6.49910848e-01,\n",
              "       6.43161007e-01, 6.34816140e-01, 6.24941410e-01, 6.13617985e-01,\n",
              "       6.00941726e-01, 5.87021452e-01, 5.71976841e-01, 5.55936077e-01,\n",
              "       5.54284588e-01, 5.74205883e-01, 5.93179812e-01, 6.11023587e-01])"
            ]
          },
          "metadata": {},
          "execution_count": 47
        }
      ]
    },
    {
      "cell_type": "code",
      "source": [
        "plt.plot(np.log(np.max(np.linalg.norm(s.v_table, axis = 2), axis = 1)))\n",
        "plt.xlim()"
      ],
      "metadata": {
        "colab": {
          "base_uri": "https://localhost:8080/",
          "height": 447
        },
        "id": "8qGUNos9n4uy",
        "outputId": "1ce92d40-a56f-49ff-c0fc-deb553adaf66"
      },
      "execution_count": null,
      "outputs": [
        {
          "output_type": "execute_result",
          "data": {
            "text/plain": [
              "(-50.0, 1050.0)"
            ]
          },
          "metadata": {},
          "execution_count": 27
        },
        {
          "output_type": "display_data",
          "data": {
            "text/plain": [
              "<Figure size 640x480 with 1 Axes>"
            ],
            "image/png": "[encoded data removed]"
          },
          "metadata": {}
        }
      ]
    }
  ]
}